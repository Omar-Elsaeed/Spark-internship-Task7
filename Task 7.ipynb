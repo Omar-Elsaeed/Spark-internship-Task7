{
 "cells": [
  {
   "cell_type": "markdown",
   "id": "f7c126c1",
   "metadata": {},
   "source": [
    "# Task - 7  \n",
    "# Stock Market Prediction\n",
    "# Using Numerical & Textual Analysis\n",
    "# (Level - Advanced)"
   ]
  },
  {
   "cell_type": "markdown",
   "id": "f8a8aa90",
   "metadata": {},
   "source": [
    "* Content"
   ]
  },
  {
   "cell_type": "markdown",
   "id": "53db82d5",
   "metadata": {},
   "source": [
    "* 1) import libraies \n",
    "* 2) importing data\n",
    "* 3) Numerical Analysis\n",
    "* 4) Cleaning Text Data and extracting important information\n",
    "* 5) Preparing Data\n",
    "* 6) Spliting Data\n",
    "* 7) Training Model\n",
    "* 8) Evaluating Model"
   ]
  },
  {
   "cell_type": "markdown",
   "id": "05f1e834",
   "metadata": {},
   "source": [
    "## importing Libraries"
   ]
  },
  {
   "cell_type": "code",
   "execution_count": 44,
   "id": "0baba55b",
   "metadata": {},
   "outputs": [],
   "source": [
    "import pandas as pd\n",
    "import numpy as np\n",
    "import nltk"
   ]
  },
  {
   "cell_type": "markdown",
   "id": "36aba7fb",
   "metadata": {},
   "source": [
    "## Importing data"
   ]
  },
  {
   "cell_type": "code",
   "execution_count": 19,
   "id": "eb9c8b47",
   "metadata": {},
   "outputs": [
    {
     "data": {
      "text/html": [
       "<div>\n",
       "<style scoped>\n",
       "    .dataframe tbody tr th:only-of-type {\n",
       "        vertical-align: middle;\n",
       "    }\n",
       "\n",
       "    .dataframe tbody tr th {\n",
       "        vertical-align: top;\n",
       "    }\n",
       "\n",
       "    .dataframe thead th {\n",
       "        text-align: right;\n",
       "    }\n",
       "</style>\n",
       "<table border=\"1\" class=\"dataframe\">\n",
       "  <thead>\n",
       "    <tr style=\"text-align: right;\">\n",
       "      <th></th>\n",
       "      <th>publish_date</th>\n",
       "      <th>headline_category</th>\n",
       "      <th>headline_text</th>\n",
       "    </tr>\n",
       "  </thead>\n",
       "  <tbody>\n",
       "    <tr>\n",
       "      <th>0</th>\n",
       "      <td>20010102</td>\n",
       "      <td>unknown</td>\n",
       "      <td>Status quo will not be disturbed at Ayodhya; s...</td>\n",
       "    </tr>\n",
       "    <tr>\n",
       "      <th>1</th>\n",
       "      <td>20010102</td>\n",
       "      <td>unknown</td>\n",
       "      <td>Fissures in Hurriyat over Pak visit</td>\n",
       "    </tr>\n",
       "    <tr>\n",
       "      <th>2</th>\n",
       "      <td>20010102</td>\n",
       "      <td>unknown</td>\n",
       "      <td>America's unwanted heading for India?</td>\n",
       "    </tr>\n",
       "    <tr>\n",
       "      <th>3</th>\n",
       "      <td>20010102</td>\n",
       "      <td>unknown</td>\n",
       "      <td>For bigwigs; it is destination Goa</td>\n",
       "    </tr>\n",
       "    <tr>\n",
       "      <th>4</th>\n",
       "      <td>20010102</td>\n",
       "      <td>unknown</td>\n",
       "      <td>Extra buses to clear tourist traffic</td>\n",
       "    </tr>\n",
       "  </tbody>\n",
       "</table>\n",
       "</div>"
      ],
      "text/plain": [
       "   publish_date headline_category  \\\n",
       "0      20010102           unknown   \n",
       "1      20010102           unknown   \n",
       "2      20010102           unknown   \n",
       "3      20010102           unknown   \n",
       "4      20010102           unknown   \n",
       "\n",
       "                                       headline_text  \n",
       "0  Status quo will not be disturbed at Ayodhya; s...  \n",
       "1                Fissures in Hurriyat over Pak visit  \n",
       "2              America's unwanted heading for India?  \n",
       "3                 For bigwigs; it is destination Goa  \n",
       "4               Extra buses to clear tourist traffic  "
      ]
     },
     "execution_count": 19,
     "metadata": {},
     "output_type": "execute_result"
    }
   ],
   "source": [
    "df1=pd.read_csv(r'india-news-headlines.csv')\n",
    "df1.head()"
   ]
  },
  {
   "cell_type": "code",
   "execution_count": 20,
   "id": "68047f25",
   "metadata": {},
   "outputs": [
    {
     "data": {
      "text/html": [
       "<div>\n",
       "<style scoped>\n",
       "    .dataframe tbody tr th:only-of-type {\n",
       "        vertical-align: middle;\n",
       "    }\n",
       "\n",
       "    .dataframe tbody tr th {\n",
       "        vertical-align: top;\n",
       "    }\n",
       "\n",
       "    .dataframe thead th {\n",
       "        text-align: right;\n",
       "    }\n",
       "</style>\n",
       "<table border=\"1\" class=\"dataframe\">\n",
       "  <thead>\n",
       "    <tr style=\"text-align: right;\">\n",
       "      <th></th>\n",
       "      <th>High</th>\n",
       "      <th>Low</th>\n",
       "      <th>Open</th>\n",
       "      <th>Close</th>\n",
       "      <th>Volume</th>\n",
       "      <th>Adj Close</th>\n",
       "    </tr>\n",
       "    <tr>\n",
       "      <th>Date</th>\n",
       "      <th></th>\n",
       "      <th></th>\n",
       "      <th></th>\n",
       "      <th></th>\n",
       "      <th></th>\n",
       "      <th></th>\n",
       "    </tr>\n",
       "  </thead>\n",
       "  <tbody>\n",
       "    <tr>\n",
       "      <th>2015-01-02</th>\n",
       "      <td>27937.470703</td>\n",
       "      <td>27519.259766</td>\n",
       "      <td>27521.279297</td>\n",
       "      <td>27887.900391</td>\n",
       "      <td>7400.0</td>\n",
       "      <td>27887.900391</td>\n",
       "    </tr>\n",
       "    <tr>\n",
       "      <th>2015-01-05</th>\n",
       "      <td>28064.490234</td>\n",
       "      <td>27786.849609</td>\n",
       "      <td>27978.429688</td>\n",
       "      <td>27842.320312</td>\n",
       "      <td>9200.0</td>\n",
       "      <td>27842.320312</td>\n",
       "    </tr>\n",
       "    <tr>\n",
       "      <th>2015-01-06</th>\n",
       "      <td>27698.929688</td>\n",
       "      <td>26937.060547</td>\n",
       "      <td>27694.230469</td>\n",
       "      <td>26987.460938</td>\n",
       "      <td>14100.0</td>\n",
       "      <td>26987.460938</td>\n",
       "    </tr>\n",
       "    <tr>\n",
       "      <th>2015-01-07</th>\n",
       "      <td>27051.599609</td>\n",
       "      <td>26776.119141</td>\n",
       "      <td>26983.429688</td>\n",
       "      <td>26908.820312</td>\n",
       "      <td>12200.0</td>\n",
       "      <td>26908.820312</td>\n",
       "    </tr>\n",
       "    <tr>\n",
       "      <th>2015-01-08</th>\n",
       "      <td>27316.410156</td>\n",
       "      <td>27101.939453</td>\n",
       "      <td>27178.769531</td>\n",
       "      <td>27274.710938</td>\n",
       "      <td>8200.0</td>\n",
       "      <td>27274.710938</td>\n",
       "    </tr>\n",
       "  </tbody>\n",
       "</table>\n",
       "</div>"
      ],
      "text/plain": [
       "                    High           Low          Open         Close   Volume  \\\n",
       "Date                                                                          \n",
       "2015-01-02  27937.470703  27519.259766  27521.279297  27887.900391   7400.0   \n",
       "2015-01-05  28064.490234  27786.849609  27978.429688  27842.320312   9200.0   \n",
       "2015-01-06  27698.929688  26937.060547  27694.230469  26987.460938  14100.0   \n",
       "2015-01-07  27051.599609  26776.119141  26983.429688  26908.820312  12200.0   \n",
       "2015-01-08  27316.410156  27101.939453  27178.769531  27274.710938   8200.0   \n",
       "\n",
       "               Adj Close  \n",
       "Date                      \n",
       "2015-01-02  27887.900391  \n",
       "2015-01-05  27842.320312  \n",
       "2015-01-06  26987.460938  \n",
       "2015-01-07  26908.820312  \n",
       "2015-01-08  27274.710938  "
      ]
     },
     "execution_count": 20,
     "metadata": {},
     "output_type": "execute_result"
    }
   ],
   "source": [
    "import pandas_datareader as web\n",
    "df2=web.DataReader('^BSESN', data_source='yahoo', start='2015-01-01', end='2020-12-31')\n",
    "df2.head()"
   ]
  },
  {
   "cell_type": "code",
   "execution_count": 5,
   "id": "6b3064e1",
   "metadata": {},
   "outputs": [
    {
     "name": "stdout",
     "output_type": "stream",
     "text": [
      "<class 'pandas.core.frame.DataFrame'>\n",
      "RangeIndex: 3650970 entries, 0 to 3650969\n",
      "Data columns (total 3 columns):\n",
      " #   Column             Dtype \n",
      "---  ------             ----- \n",
      " 0   publish_date       int64 \n",
      " 1   headline_category  object\n",
      " 2   headline_text      object\n",
      "dtypes: int64(1), object(2)\n",
      "memory usage: 83.6+ MB\n",
      "None\n",
      "<class 'pandas.core.frame.DataFrame'>\n",
      "DatetimeIndex: 1474 entries, 2015-01-02 to 2020-12-31\n",
      "Data columns (total 6 columns):\n",
      " #   Column     Non-Null Count  Dtype  \n",
      "---  ------     --------------  -----  \n",
      " 0   High       1474 non-null   float64\n",
      " 1   Low        1474 non-null   float64\n",
      " 2   Open       1474 non-null   float64\n",
      " 3   Close      1474 non-null   float64\n",
      " 4   Volume     1474 non-null   float64\n",
      " 5   Adj Close  1474 non-null   float64\n",
      "dtypes: float64(6)\n",
      "memory usage: 80.6 KB\n",
      "None\n"
     ]
    }
   ],
   "source": [
    "print(df1.info())\n",
    "print(df2.info())"
   ]
  },
  {
   "cell_type": "markdown",
   "id": "e0842cf0",
   "metadata": {},
   "source": [
    "### Visualization and Analysis on numerical Data"
   ]
  },
  {
   "cell_type": "code",
   "execution_count": 52,
   "id": "6c8188ad",
   "metadata": {},
   "outputs": [],
   "source": [
    "import matplotlib.pyplot as plt\n",
    "from pandas.plotting import scatter_matrix\n",
    "%matplotlib inline"
   ]
  },
  {
   "cell_type": "code",
   "execution_count": 53,
   "id": "b189aaaf",
   "metadata": {},
   "outputs": [
    {
     "data": {
      "text/plain": [
       "[<matplotlib.lines.Line2D at 0x1c6b9ef6a60>]"
      ]
     },
     "execution_count": 53,
     "metadata": {},
     "output_type": "execute_result"
    },
    {
     "data": {
      "image/png": "[encoded data removed]",
      "text/plain": [
       "<Figure size 712x534 with 1 Axes>"
      ]
     },
     "metadata": {
      "needs_background": "light"
     },
     "output_type": "display_data"
    }
   ],
   "source": [
    "from matplotlib.pyplot import figure\n",
    "\n",
    "figure(figsize=(8,6), dpi=89)\n",
    "# close stock price\n",
    "plt.plot(df2['Close'])"
   ]
  },
  {
   "cell_type": "code",
   "execution_count": 10,
   "id": "b4dfbc64",
   "metadata": {},
   "outputs": [
    {
     "data": {
      "text/plain": [
       "<matplotlib.legend.Legend at 0x1c6b0ef7d90>"
      ]
     },
     "execution_count": 10,
     "metadata": {},
     "output_type": "execute_result"
    },
    {
     "data": {
      "image/png": "[encoded data removed]",
      "text/plain": [
       "<Figure size 1080x504 with 1 Axes>"
      ]
     },
     "metadata": {
      "needs_background": "light"
     },
     "output_type": "display_data"
    }
   ],
   "source": [
    "# Volume\n",
    "df2['Volume'].plot(label = 'Stock', figsize = (15,7))\n",
    "plt.title('Volume of stock traders')\n",
    "plt.legend()"
   ]
  },
  {
   "cell_type": "code",
   "execution_count": 12,
   "id": "4444c4bd",
   "metadata": {},
   "outputs": [
    {
     "data": {
      "text/plain": [
       "<matplotlib.legend.Legend at 0x1c6ae5fa7c0>"
      ]
     },
     "execution_count": 12,
     "metadata": {},
     "output_type": "execute_result"
    },
    {
     "data": {
      "image/png": "[encoded data removed]",
      "text/plain": [
       "<Figure size 1080x504 with 1 Axes>"
      ]
     },
     "metadata": {
      "needs_background": "light"
     },
     "output_type": "display_data"
    }
   ],
   "source": [
    "# Market Capitalism\n",
    "df2['Market Capitalism']=df2['Open']=df2['Volume']\n",
    "df2['Market Capitalism'].plot(label='Market Capitalism', figsize=(15,7))\n",
    "plt.legend()"
   ]
  },
  {
   "cell_type": "code",
   "execution_count": 29,
   "id": "4d414461",
   "metadata": {},
   "outputs": [
    {
     "data": {
      "text/plain": [
       "<matplotlib.legend.Legend at 0x1c6b371b2b0>"
      ]
     },
     "execution_count": 29,
     "metadata": {},
     "output_type": "execute_result"
    },
    {
     "data": {
      "image/png": "[encoded data removed]",
      "text/plain": [
       "<Figure size 1080x504 with 1 Axes>"
      ]
     },
     "metadata": {
      "needs_background": "light"
     },
     "output_type": "display_data"
    }
   ],
   "source": [
    "# As we Know the stock prices are nighly volatile and prices change quickly with time\n",
    "# to observe any trend or pattern we cant take the help of a 50-day 200-day average\n",
    "df2['MA50'] = df2['Open'].rolling(50).mean()\n",
    "df2['MA200'] = df2['Open'].rolling(200).mean()\n",
    "df2['Open'].plot(figsize = (15,7))\n",
    "plt.legend()"
   ]
  },
  {
   "cell_type": "code",
   "execution_count": 24,
   "id": "7772e710",
   "metadata": {},
   "outputs": [
    {
     "data": {
      "text/plain": [
       "<matplotlib.legend.Legend at 0x1c6b0f6e7c0>"
      ]
     },
     "execution_count": 24,
     "metadata": {},
     "output_type": "execute_result"
    },
    {
     "data": {
      "image/png": "[encoded data removed]",
      "text/plain": [
       "<Figure size 1080x504 with 1 Axes>"
      ]
     },
     "metadata": {
      "needs_background": "light"
     },
     "output_type": "display_data"
    }
   ],
   "source": [
    "# return\n",
    "df2['returns'] = (df2['Close']/df2['Close'].shift(1)) -1\n",
    "df2['returns'].hist(bins = 100, label = 'stock', alpha= 0.5, figsize = (15,7))\n",
    "plt.legend()"
   ]
  },
  {
   "cell_type": "code",
   "execution_count": null,
   "id": "86c9478e",
   "metadata": {},
   "outputs": [],
   "source": []
  },
  {
   "cell_type": "code",
   "execution_count": 26,
   "id": "b7beb108",
   "metadata": {},
   "outputs": [
    {
     "data": {
      "text/plain": [
       "<AxesSubplot:xlabel='Date'>"
      ]
     },
     "execution_count": 26,
     "metadata": {},
     "output_type": "execute_result"
    },
    {
     "data": {
      "image/png": "[encoded data removed]",
      "text/plain": [
       "<Figure size 1080x504 with 1 Axes>"
      ]
     },
     "metadata": {
      "needs_background": "light"
     },
     "output_type": "display_data"
    }
   ],
   "source": [
    "# adj.Close\n",
    "df2['Adj Close'].plot(label = 'Adj lose', figsize = (15,7))"
   ]
  },
  {
   "cell_type": "code",
   "execution_count": 30,
   "id": "ee3278be",
   "metadata": {},
   "outputs": [
    {
     "data": {
      "image/png": "[encoded data removed]",
      "text/plain": [
       "<Figure size 1080x504 with 1 Axes>"
      ]
     },
     "metadata": {
      "needs_background": "light"
     },
     "output_type": "display_data"
    },
    {
     "name": "stdout",
     "output_type": "stream",
     "text": [
      "Result of dickey fuller test\n",
      "Test Statistics                  -0.380649\n",
      "p-value                           0.913280\n",
      "No. of lags used                 12.000000\n",
      "Number of observations used    1461.000000\n",
      "critical value (1%)              -3.434834\n",
      "critical value (5%)              -2.863520\n",
      "critical value (10%)             -2.567824\n",
      "dtype: float64\n"
     ]
    }
   ],
   "source": [
    "from statsmodels.tsa.stattools import adfuller\n",
    "from statsmodels.tsa.seasonal import seasonal_decompose\n",
    "from statsmodels.tsa.arima_model import ARIMA\n",
    "\n",
    "#Test for Staionarity\n",
    "def test_stationarity(timeseries):\n",
    "    #Determing rolling statistics\n",
    "    rolmean = timeseries.rolling(12).mean()\n",
    "    rolstd = timeseries.rolling(12).std()\n",
    "    #plot rolling statistics:\n",
    "    plt.figure(figsize=(15,7))\n",
    "    plt.plot(timeseries, color='blue',label='Original')\n",
    "    plt.plot(rolmean, color='red', label='Rolling Mean')\n",
    "    plt.plot(rolstd, color='black', label='Rolling Std')\n",
    "    plt.legend(loc='best')\n",
    "    plt.title('Rolling Mean and Standard Deviation')\n",
    "    plt.show(block=False)\n",
    "    \n",
    "    print('Result of dickey fuller test')\n",
    "    adft = adfuller(timeseries,autolag='AIC')\n",
    "    # output for dft will give us without defining what the values are.\n",
    "    #hence we manually write what values does it explains using a for loop\n",
    "    output = pd.Series(adft[0:4],index=['Test Statistics','p-value','No. of lags used','Number of observations used'])\n",
    "    for key,values in adft[4].items():\n",
    "        output['critical value (%s)'%key] = values\n",
    "    print(output)\n",
    "test_stationarity(df2.Close)    "
   ]
  },
  {
   "cell_type": "code",
   "execution_count": 41,
   "id": "fa42eac8",
   "metadata": {},
   "outputs": [],
   "source": [
    "from statsmodels.tsa.seasonal import seasonal_decompose"
   ]
  },
  {
   "cell_type": "code",
   "execution_count": 42,
   "id": "28f04673",
   "metadata": {},
   "outputs": [
    {
     "name": "stdout",
     "output_type": "stream",
     "text": [
      "0.13.2\n"
     ]
    }
   ],
   "source": [
    "import statsmodels\n",
    "print(statsmodels.__version__)"
   ]
  },
  {
   "cell_type": "code",
   "execution_count": 58,
   "id": "a24b5b99",
   "metadata": {},
   "outputs": [],
   "source": [
    "import statsmodels.api as sm"
   ]
  },
  {
   "cell_type": "code",
   "execution_count": 59,
   "id": "6bd3715a",
   "metadata": {},
   "outputs": [],
   "source": [
    "###  the below code hase an error when i used  freq = 30 "
   ]
  },
  {
   "cell_type": "code",
   "execution_count": 61,
   "id": "8ed2ad42",
   "metadata": {},
   "outputs": [
    {
     "data": {
      "text/plain": [
       "<Figure size 432x288 with 0 Axes>"
      ]
     },
     "metadata": {},
     "output_type": "display_data"
    },
    {
     "data": {
      "image/png": "[encoded data removed]",
      "text/plain": [
       "<Figure size 1152x648 with 4 Axes>"
      ]
     },
     "metadata": {
      "needs_background": "light"
     },
     "output_type": "display_data"
    }
   ],
   "source": [
    "#looking for Any trend or seasonal variations\n",
    "result = seasonal_decompose(df2.Close, model='multiplicative', period = 30)\n",
    "fig = plt.figure()\n",
    "fig = result.plot()\n",
    "fig.set_size_inches(16,9)"
   ]
  },
  {
   "cell_type": "markdown",
   "id": "4060e38b",
   "metadata": {},
   "source": [
    "## Cleaning Text data extracting important information "
   ]
  },
  {
   "cell_type": "code",
   "execution_count": 62,
   "id": "94b59897",
   "metadata": {},
   "outputs": [],
   "source": [
    "df1['publish_date'] = pd.to_datetime(df1['publish_date'], format = '%Y%m%d')"
   ]
  },
  {
   "cell_type": "code",
   "execution_count": 63,
   "id": "c481b3f5",
   "metadata": {},
   "outputs": [
    {
     "data": {
      "text/plain": [
       "array(['unknown', 'entertainment.hindi.bollywood', 'india', ...,\n",
       "       'sports.football.euro-2021', 'business.markets.ipo',\n",
       "       'sports.tokyo-olympics.india-in-tokyo'], dtype=object)"
      ]
     },
     "execution_count": 63,
     "metadata": {},
     "output_type": "execute_result"
    }
   ],
   "source": [
    "df1['headline_category'].unique()"
   ]
  },
  {
   "cell_type": "code",
   "execution_count": 64,
   "id": "4a28b6f8",
   "metadata": {},
   "outputs": [
    {
     "data": {
      "text/plain": [
       "india                                                    297491\n",
       "unknown                                                  209583\n",
       "city.mumbai                                              150451\n",
       "city.delhi                                               137648\n",
       "business.india-business                                  121195\n",
       "                                                          ...  \n",
       "nepal-india-earthquake.opinion                                8\n",
       "elections.lok-sabha-elections-2019.tripura.news               8\n",
       "best-products.home-decor-and-garden.living-room-decor         8\n",
       "profiles.india-profiles                                       8\n",
       "pms-us-visit                                                  8\n",
       "Name: headline_category, Length: 1041, dtype: int64"
      ]
     },
     "execution_count": 64,
     "metadata": {},
     "output_type": "execute_result"
    }
   ],
   "source": [
    "df1['headline_category'].value_counts()"
   ]
  },
  {
   "cell_type": "code",
   "execution_count": 65,
   "id": "3196abaa",
   "metadata": {},
   "outputs": [
    {
     "data": {
      "text/plain": [
       "2014-12-21    706\n",
       "2014-12-15    706\n",
       "2014-10-10    706\n",
       "2014-10-11    705\n",
       "2014-11-09    705\n",
       "             ... \n",
       "2001-06-05      1\n",
       "2001-03-05      1\n",
       "2001-06-04      1\n",
       "2001-03-02      1\n",
       "2001-06-02      1\n",
       "Name: publish_date, Length: 7717, dtype: int64"
      ]
     },
     "execution_count": 65,
     "metadata": {},
     "output_type": "execute_result"
    }
   ],
   "source": [
    "df1['publish_date'].value_counts()"
   ]
  },
  {
   "cell_type": "code",
   "execution_count": 66,
   "id": "6dcffccb",
   "metadata": {},
   "outputs": [
    {
     "data": {
      "text/plain": [
       "Straight Answers                                                                                                          6723\n",
       "Cartoons                                                                                                                  1536\n",
       "Straight answers                                                                                                          1500\n",
       "Photogallery                                                                                                              1353\n",
       "Your say                                                                                                                  1012\n",
       "                                                                                                                          ... \n",
       "Pak President Asif Ali Zardari at 7RCR; meets Manmohan Singh                                                                 1\n",
       "Why Goa Inc is so happy with CM Manohar Parrikar                                                                             1\n",
       "American Tourister eyes Rs 100 crore from backpacks in 2012                                                                  1\n",
       "Book 'Ek Hota Carver' soon in audio form                                                                                     1\n",
       "Ranbir Kapoor says 'Rishi Kapoor enjoyed his alcohol; food and ensured to have at least one meal together with family'       1\n",
       "Name: headline_text, Length: 3387380, dtype: int64"
      ]
     },
     "execution_count": 66,
     "metadata": {},
     "output_type": "execute_result"
    }
   ],
   "source": [
    "df1['headline_text'].value_counts()"
   ]
  },
  {
   "cell_type": "code",
   "execution_count": null,
   "id": "cb944dd1",
   "metadata": {},
   "outputs": [],
   "source": []
  },
  {
   "cell_type": "code",
   "execution_count": 67,
   "id": "72a500b8",
   "metadata": {},
   "outputs": [
    {
     "data": {
      "text/plain": [
       "publish_date         0\n",
       "headline_category    0\n",
       "headline_text        0\n",
       "dtype: int64"
      ]
     },
     "execution_count": 67,
     "metadata": {},
     "output_type": "execute_result"
    }
   ],
   "source": [
    "df1.isna().sum()"
   ]
  },
  {
   "cell_type": "code",
   "execution_count": 68,
   "id": "5b458a79",
   "metadata": {},
   "outputs": [
    {
     "data": {
      "text/plain": [
       "3387380"
      ]
     },
     "execution_count": 68,
     "metadata": {},
     "output_type": "execute_result"
    }
   ],
   "source": [
    "df1['headline_text'].value_counts().count()"
   ]
  },
  {
   "cell_type": "code",
   "execution_count": 69,
   "id": "a6a537c2",
   "metadata": {},
   "outputs": [
    {
     "data": {
      "text/plain": [
       "24860"
      ]
     },
     "execution_count": 69,
     "metadata": {},
     "output_type": "execute_result"
    }
   ],
   "source": [
    "df1.duplicated().sum()"
   ]
  },
  {
   "cell_type": "code",
   "execution_count": 70,
   "id": "cf66c121",
   "metadata": {},
   "outputs": [
    {
     "data": {
      "text/plain": [
       "47452"
      ]
     },
     "execution_count": 70,
     "metadata": {},
     "output_type": "execute_result"
    }
   ],
   "source": [
    "df1.duplicated(keep=False).sum()"
   ]
  },
  {
   "cell_type": "code",
   "execution_count": 71,
   "id": "a4ad15e6",
   "metadata": {},
   "outputs": [],
   "source": [
    "cols = list(df1.columns)"
   ]
  },
  {
   "cell_type": "code",
   "execution_count": 72,
   "id": "bb76bea5",
   "metadata": {},
   "outputs": [],
   "source": [
    "df1.sort_values(by=cols, inplace=True, ignore_index=True)"
   ]
  },
  {
   "cell_type": "code",
   "execution_count": 73,
   "id": "07244746",
   "metadata": {},
   "outputs": [
    {
     "data": {
      "text/html": [
       "<div>\n",
       "<style scoped>\n",
       "    .dataframe tbody tr th:only-of-type {\n",
       "        vertical-align: middle;\n",
       "    }\n",
       "\n",
       "    .dataframe tbody tr th {\n",
       "        vertical-align: top;\n",
       "    }\n",
       "\n",
       "    .dataframe thead th {\n",
       "        text-align: right;\n",
       "    }\n",
       "</style>\n",
       "<table border=\"1\" class=\"dataframe\">\n",
       "  <thead>\n",
       "    <tr style=\"text-align: right;\">\n",
       "      <th></th>\n",
       "      <th>publish_date</th>\n",
       "      <th>headline_category</th>\n",
       "      <th>headline_text</th>\n",
       "    </tr>\n",
       "  </thead>\n",
       "  <tbody>\n",
       "    <tr>\n",
       "      <th>3</th>\n",
       "      <td>2001-01-02</td>\n",
       "      <td>unknown</td>\n",
       "      <td>America's unwanted heading for India?</td>\n",
       "    </tr>\n",
       "    <tr>\n",
       "      <th>4</th>\n",
       "      <td>2001-01-02</td>\n",
       "      <td>unknown</td>\n",
       "      <td>America's unwanted heading for India?</td>\n",
       "    </tr>\n",
       "    <tr>\n",
       "      <th>5</th>\n",
       "      <td>2001-01-02</td>\n",
       "      <td>unknown</td>\n",
       "      <td>America's unwanted heading for India?</td>\n",
       "    </tr>\n",
       "    <tr>\n",
       "      <th>6</th>\n",
       "      <td>2001-01-02</td>\n",
       "      <td>unknown</td>\n",
       "      <td>America's unwanted heading for India?</td>\n",
       "    </tr>\n",
       "    <tr>\n",
       "      <th>9</th>\n",
       "      <td>2001-01-02</td>\n",
       "      <td>unknown</td>\n",
       "      <td>BBC's reality TV will focus on AIIMS</td>\n",
       "    </tr>\n",
       "    <tr>\n",
       "      <th>...</th>\n",
       "      <td>...</td>\n",
       "      <td>...</td>\n",
       "      <td>...</td>\n",
       "    </tr>\n",
       "    <tr>\n",
       "      <th>3646165</th>\n",
       "      <td>2022-03-22</td>\n",
       "      <td>city.hubballi</td>\n",
       "      <td>BJP divided over probable induction of Basavar...</td>\n",
       "    </tr>\n",
       "    <tr>\n",
       "      <th>3648600</th>\n",
       "      <td>2022-03-27</td>\n",
       "      <td>city.chennai</td>\n",
       "      <td>Father; daughter killed in TN as e-bike on cha...</td>\n",
       "    </tr>\n",
       "    <tr>\n",
       "      <th>3648601</th>\n",
       "      <td>2022-03-27</td>\n",
       "      <td>city.chennai</td>\n",
       "      <td>Father; daughter killed in TN as e-bike on cha...</td>\n",
       "    </tr>\n",
       "    <tr>\n",
       "      <th>3649664</th>\n",
       "      <td>2022-03-29</td>\n",
       "      <td>city.hyderabad</td>\n",
       "      <td>Telangana logs 30 new Covid cases</td>\n",
       "    </tr>\n",
       "    <tr>\n",
       "      <th>3649665</th>\n",
       "      <td>2022-03-29</td>\n",
       "      <td>city.hyderabad</td>\n",
       "      <td>Telangana logs 30 new Covid cases</td>\n",
       "    </tr>\n",
       "  </tbody>\n",
       "</table>\n",
       "<p>47452 rows × 3 columns</p>\n",
       "</div>"
      ],
      "text/plain": [
       "        publish_date headline_category  \\\n",
       "3         2001-01-02           unknown   \n",
       "4         2001-01-02           unknown   \n",
       "5         2001-01-02           unknown   \n",
       "6         2001-01-02           unknown   \n",
       "9         2001-01-02           unknown   \n",
       "...              ...               ...   \n",
       "3646165   2022-03-22     city.hubballi   \n",
       "3648600   2022-03-27      city.chennai   \n",
       "3648601   2022-03-27      city.chennai   \n",
       "3649664   2022-03-29    city.hyderabad   \n",
       "3649665   2022-03-29    city.hyderabad   \n",
       "\n",
       "                                             headline_text  \n",
       "3                    America's unwanted heading for India?  \n",
       "4                    America's unwanted heading for India?  \n",
       "5                    America's unwanted heading for India?  \n",
       "6                    America's unwanted heading for India?  \n",
       "9                     BBC's reality TV will focus on AIIMS  \n",
       "...                                                    ...  \n",
       "3646165  BJP divided over probable induction of Basavar...  \n",
       "3648600  Father; daughter killed in TN as e-bike on cha...  \n",
       "3648601  Father; daughter killed in TN as e-bike on cha...  \n",
       "3649664                  Telangana logs 30 new Covid cases  \n",
       "3649665                  Telangana logs 30 new Covid cases  \n",
       "\n",
       "[47452 rows x 3 columns]"
      ]
     },
     "execution_count": 73,
     "metadata": {},
     "output_type": "execute_result"
    }
   ],
   "source": [
    "df1[df1.duplicated(keep=False)]"
   ]
  },
  {
   "cell_type": "code",
   "execution_count": 74,
   "id": "38ad2322",
   "metadata": {},
   "outputs": [],
   "source": [
    "df1.drop_duplicates(keep='last', inplace=True, ignore_index=True)"
   ]
  },
  {
   "cell_type": "code",
   "execution_count": 75,
   "id": "3d2a9b5a",
   "metadata": {},
   "outputs": [
    {
     "data": {
      "text/plain": [
       "0"
      ]
     },
     "execution_count": 75,
     "metadata": {},
     "output_type": "execute_result"
    }
   ],
   "source": [
    "df1.duplicated().sum()"
   ]
  },
  {
   "cell_type": "code",
   "execution_count": 89,
   "id": "15812ddf",
   "metadata": {},
   "outputs": [],
   "source": [
    "from textblob import TextBlob"
   ]
  },
  {
   "cell_type": "code",
   "execution_count": 78,
   "id": "4e430c71",
   "metadata": {},
   "outputs": [],
   "source": [
    "lst = df1['publish_date'].value_counts().index.tolist()"
   ]
  },
  {
   "cell_type": "code",
   "execution_count": 79,
   "id": "3dbcdd32",
   "metadata": {},
   "outputs": [],
   "source": [
    "new = []\n",
    "for x in lst:\n",
    "    df = df1.loc[df1['publish_date'] == x]\n",
    "    headlinetext = ''\n",
    "    publishdate = str(x)\n",
    "    headlinetext = df['headline_text'].iloc[0]\n",
    "    for i in range(1 , len(df)):\n",
    "        headlinetext = headlinetext + '. '+ df['headline_text'].iloc[i]\n",
    "    new.append(headlinetext)    "
   ]
  },
  {
   "cell_type": "code",
   "execution_count": 80,
   "id": "bd71fae5",
   "metadata": {},
   "outputs": [],
   "source": [
    "newsdf = pd.DataFrame({'publish_date': lst, 'headline_text' :new})"
   ]
  },
  {
   "cell_type": "code",
   "execution_count": 81,
   "id": "1f643e1d",
   "metadata": {},
   "outputs": [
    {
     "data": {
      "text/html": [
       "<div>\n",
       "<style scoped>\n",
       "    .dataframe tbody tr th:only-of-type {\n",
       "        vertical-align: middle;\n",
       "    }\n",
       "\n",
       "    .dataframe tbody tr th {\n",
       "        vertical-align: top;\n",
       "    }\n",
       "\n",
       "    .dataframe thead th {\n",
       "        text-align: right;\n",
       "    }\n",
       "</style>\n",
       "<table border=\"1\" class=\"dataframe\">\n",
       "  <thead>\n",
       "    <tr style=\"text-align: right;\">\n",
       "      <th></th>\n",
       "      <th>publish_date</th>\n",
       "      <th>headline_text</th>\n",
       "    </tr>\n",
       "  </thead>\n",
       "  <tbody>\n",
       "    <tr>\n",
       "      <th>0</th>\n",
       "      <td>2014-12-15</td>\n",
       "      <td>Golden Homes III. Golden Panorama. Hanging Gar...</td>\n",
       "    </tr>\n",
       "    <tr>\n",
       "      <th>1</th>\n",
       "      <td>2014-12-21</td>\n",
       "      <td>Eight companies add Rs 55;171 crore in m-cap; ...</td>\n",
       "    </tr>\n",
       "    <tr>\n",
       "      <th>2</th>\n",
       "      <td>2014-12-09</td>\n",
       "      <td>Audi-Vredestein driving experience. Benelli TN...</td>\n",
       "    </tr>\n",
       "    <tr>\n",
       "      <th>3</th>\n",
       "      <td>2014-11-29</td>\n",
       "      <td>6 CARE IPO merchant bankers fined Rs 1 crore. ...</td>\n",
       "    </tr>\n",
       "    <tr>\n",
       "      <th>4</th>\n",
       "      <td>2014-12-27</td>\n",
       "      <td>New generation Audi Q7 being tested in India. ...</td>\n",
       "    </tr>\n",
       "  </tbody>\n",
       "</table>\n",
       "</div>"
      ],
      "text/plain": [
       "  publish_date                                      headline_text\n",
       "0   2014-12-15  Golden Homes III. Golden Panorama. Hanging Gar...\n",
       "1   2014-12-21  Eight companies add Rs 55;171 crore in m-cap; ...\n",
       "2   2014-12-09  Audi-Vredestein driving experience. Benelli TN...\n",
       "3   2014-11-29  6 CARE IPO merchant bankers fined Rs 1 crore. ...\n",
       "4   2014-12-27  New generation Audi Q7 being tested in India. ..."
      ]
     },
     "execution_count": 81,
     "metadata": {},
     "output_type": "execute_result"
    }
   ],
   "source": [
    "newsdf.head()"
   ]
  },
  {
   "cell_type": "code",
   "execution_count": 82,
   "id": "50639b15",
   "metadata": {},
   "outputs": [],
   "source": [
    "newsdf.sort_values(by='publish_date', inplace=True, ignore_index=True)"
   ]
  },
  {
   "cell_type": "code",
   "execution_count": 83,
   "id": "da43f170",
   "metadata": {},
   "outputs": [
    {
     "data": {
      "text/html": [
       "<div>\n",
       "<style scoped>\n",
       "    .dataframe tbody tr th:only-of-type {\n",
       "        vertical-align: middle;\n",
       "    }\n",
       "\n",
       "    .dataframe tbody tr th {\n",
       "        vertical-align: top;\n",
       "    }\n",
       "\n",
       "    .dataframe thead th {\n",
       "        text-align: right;\n",
       "    }\n",
       "</style>\n",
       "<table border=\"1\" class=\"dataframe\">\n",
       "  <thead>\n",
       "    <tr style=\"text-align: right;\">\n",
       "      <th></th>\n",
       "      <th>publish_date</th>\n",
       "      <th>headline_text</th>\n",
       "    </tr>\n",
       "  </thead>\n",
       "  <tbody>\n",
       "    <tr>\n",
       "      <th>0</th>\n",
       "      <td>2001-01-02</td>\n",
       "      <td>Raju Chacha. A noisy effort to spruce up Comme...</td>\n",
       "    </tr>\n",
       "    <tr>\n",
       "      <th>1</th>\n",
       "      <td>2001-01-03</td>\n",
       "      <td>'Devdas': Jinxed?. 10-year-old girl missing. 3...</td>\n",
       "    </tr>\n",
       "    <tr>\n",
       "      <th>2</th>\n",
       "      <td>2001-01-04</td>\n",
       "      <td>Car dealers caught in Bihar sales tax ruling. ...</td>\n",
       "    </tr>\n",
       "    <tr>\n",
       "      <th>3</th>\n",
       "      <td>2001-01-05</td>\n",
       "      <td>Nepal won't allow anti-India activities: Envoy...</td>\n",
       "    </tr>\n",
       "    <tr>\n",
       "      <th>4</th>\n",
       "      <td>2001-01-06</td>\n",
       "      <td>Anti-immigration think-tank berates Clinton re...</td>\n",
       "    </tr>\n",
       "  </tbody>\n",
       "</table>\n",
       "</div>"
      ],
      "text/plain": [
       "  publish_date                                      headline_text\n",
       "0   2001-01-02  Raju Chacha. A noisy effort to spruce up Comme...\n",
       "1   2001-01-03  'Devdas': Jinxed?. 10-year-old girl missing. 3...\n",
       "2   2001-01-04  Car dealers caught in Bihar sales tax ruling. ...\n",
       "3   2001-01-05  Nepal won't allow anti-India activities: Envoy...\n",
       "4   2001-01-06  Anti-immigration think-tank berates Clinton re..."
      ]
     },
     "execution_count": 83,
     "metadata": {},
     "output_type": "execute_result"
    }
   ],
   "source": [
    "newsdf.head()"
   ]
  },
  {
   "cell_type": "code",
   "execution_count": 84,
   "id": "4023aa40",
   "metadata": {},
   "outputs": [
    {
     "data": {
      "text/html": [
       "<div>\n",
       "<style scoped>\n",
       "    .dataframe tbody tr th:only-of-type {\n",
       "        vertical-align: middle;\n",
       "    }\n",
       "\n",
       "    .dataframe tbody tr th {\n",
       "        vertical-align: top;\n",
       "    }\n",
       "\n",
       "    .dataframe thead th {\n",
       "        text-align: right;\n",
       "    }\n",
       "</style>\n",
       "<table border=\"1\" class=\"dataframe\">\n",
       "  <thead>\n",
       "    <tr style=\"text-align: right;\">\n",
       "      <th></th>\n",
       "      <th>publish_date</th>\n",
       "      <th>headline_text</th>\n",
       "    </tr>\n",
       "  </thead>\n",
       "  <tbody>\n",
       "    <tr>\n",
       "      <th>7712</th>\n",
       "      <td>2022-03-27</td>\n",
       "      <td>F1 2022: Sergio Perez grabs pole position at S...</td>\n",
       "    </tr>\n",
       "    <tr>\n",
       "      <th>7713</th>\n",
       "      <td>2022-03-28</td>\n",
       "      <td>Adani Total forays into electric mobility infr...</td>\n",
       "    </tr>\n",
       "    <tr>\n",
       "      <th>7714</th>\n",
       "      <td>2022-03-29</td>\n",
       "      <td>'ONGC sells Russia's Sokol oil to Indian refin...</td>\n",
       "    </tr>\n",
       "    <tr>\n",
       "      <th>7715</th>\n",
       "      <td>2022-03-30</td>\n",
       "      <td>8 days; 7 hikes: Petrol crosses Rs 100/L mark....</td>\n",
       "    </tr>\n",
       "    <tr>\n",
       "      <th>7716</th>\n",
       "      <td>2022-03-31</td>\n",
       "      <td>$50 million fund for Apple's supplier employee...</td>\n",
       "    </tr>\n",
       "  </tbody>\n",
       "</table>\n",
       "</div>"
      ],
      "text/plain": [
       "     publish_date                                      headline_text\n",
       "7712   2022-03-27  F1 2022: Sergio Perez grabs pole position at S...\n",
       "7713   2022-03-28  Adani Total forays into electric mobility infr...\n",
       "7714   2022-03-29  'ONGC sells Russia's Sokol oil to Indian refin...\n",
       "7715   2022-03-30  8 days; 7 hikes: Petrol crosses Rs 100/L mark....\n",
       "7716   2022-03-31  $50 million fund for Apple's supplier employee..."
      ]
     },
     "execution_count": 84,
     "metadata": {},
     "output_type": "execute_result"
    }
   ],
   "source": [
    "newsdf.tail()"
   ]
  },
  {
   "cell_type": "code",
   "execution_count": 96,
   "id": "36f8551b",
   "metadata": {},
   "outputs": [],
   "source": [
    "polarity = []\n",
    "subjectivity = []\n",
    "for idx, row in newsdf.iterrows():\n",
    "    polarity.append(TextBlob(row['headline_text']).sentiment[0])\n",
    "    subjectivity.append(TextBlob(row['headline_text']).sentiment[1])\n",
    "    "
   ]
  },
  {
   "cell_type": "code",
   "execution_count": 97,
   "id": "b07e29dc",
   "metadata": {},
   "outputs": [],
   "source": [
    "newsdf['polarity'] = polarity\n",
    "newsdf['subjectivity'] = subjectivity"
   ]
  },
  {
   "cell_type": "code",
   "execution_count": 98,
   "id": "a6847779",
   "metadata": {},
   "outputs": [
    {
     "data": {
      "text/html": [
       "<div>\n",
       "<style scoped>\n",
       "    .dataframe tbody tr th:only-of-type {\n",
       "        vertical-align: middle;\n",
       "    }\n",
       "\n",
       "    .dataframe tbody tr th {\n",
       "        vertical-align: top;\n",
       "    }\n",
       "\n",
       "    .dataframe thead th {\n",
       "        text-align: right;\n",
       "    }\n",
       "</style>\n",
       "<table border=\"1\" class=\"dataframe\">\n",
       "  <thead>\n",
       "    <tr style=\"text-align: right;\">\n",
       "      <th></th>\n",
       "      <th>publish_date</th>\n",
       "      <th>headline_text</th>\n",
       "      <th>polarity</th>\n",
       "      <th>subjectivity</th>\n",
       "    </tr>\n",
       "  </thead>\n",
       "  <tbody>\n",
       "    <tr>\n",
       "      <th>0</th>\n",
       "      <td>2001-01-02</td>\n",
       "      <td>Raju Chacha. A noisy effort to spruce up Comme...</td>\n",
       "      <td>0.193519</td>\n",
       "      <td>0.293056</td>\n",
       "    </tr>\n",
       "    <tr>\n",
       "      <th>1</th>\n",
       "      <td>2001-01-03</td>\n",
       "      <td>'Devdas': Jinxed?. 10-year-old girl missing. 3...</td>\n",
       "      <td>0.088462</td>\n",
       "      <td>0.407692</td>\n",
       "    </tr>\n",
       "    <tr>\n",
       "      <th>2</th>\n",
       "      <td>2001-01-04</td>\n",
       "      <td>Car dealers caught in Bihar sales tax ruling. ...</td>\n",
       "      <td>0.091426</td>\n",
       "      <td>0.481895</td>\n",
       "    </tr>\n",
       "    <tr>\n",
       "      <th>3</th>\n",
       "      <td>2001-01-05</td>\n",
       "      <td>Nepal won't allow anti-India activities: Envoy...</td>\n",
       "      <td>0.257415</td>\n",
       "      <td>0.465542</td>\n",
       "    </tr>\n",
       "    <tr>\n",
       "      <th>4</th>\n",
       "      <td>2001-01-06</td>\n",
       "      <td>Anti-immigration think-tank berates Clinton re...</td>\n",
       "      <td>0.219481</td>\n",
       "      <td>0.464935</td>\n",
       "    </tr>\n",
       "  </tbody>\n",
       "</table>\n",
       "</div>"
      ],
      "text/plain": [
       "  publish_date                                      headline_text  polarity  \\\n",
       "0   2001-01-02  Raju Chacha. A noisy effort to spruce up Comme...  0.193519   \n",
       "1   2001-01-03  'Devdas': Jinxed?. 10-year-old girl missing. 3...  0.088462   \n",
       "2   2001-01-04  Car dealers caught in Bihar sales tax ruling. ...  0.091426   \n",
       "3   2001-01-05  Nepal won't allow anti-India activities: Envoy...  0.257415   \n",
       "4   2001-01-06  Anti-immigration think-tank berates Clinton re...  0.219481   \n",
       "\n",
       "   subjectivity  \n",
       "0      0.293056  \n",
       "1      0.407692  \n",
       "2      0.481895  \n",
       "3      0.465542  \n",
       "4      0.464935  "
      ]
     },
     "execution_count": 98,
     "metadata": {},
     "output_type": "execute_result"
    }
   ],
   "source": [
    "newsdf.head()"
   ]
  },
  {
   "cell_type": "code",
   "execution_count": 99,
   "id": "4162f209",
   "metadata": {},
   "outputs": [],
   "source": [
    "newsdf.rename(columns={'publish_date': 'Date'}, inplace = True)"
   ]
  },
  {
   "cell_type": "code",
   "execution_count": 100,
   "id": "d470e8da",
   "metadata": {},
   "outputs": [],
   "source": [
    "newsdf = newsdf.filter(['Date', 'polarity', 'subjectivity'], axis=1)"
   ]
  },
  {
   "cell_type": "code",
   "execution_count": 101,
   "id": "37e797fc",
   "metadata": {},
   "outputs": [
    {
     "data": {
      "text/plain": [
       "(7717, 3)"
      ]
     },
     "execution_count": 101,
     "metadata": {},
     "output_type": "execute_result"
    }
   ],
   "source": [
    "newsdf.shape"
   ]
  },
  {
   "cell_type": "code",
   "execution_count": 102,
   "id": "012c1ebd",
   "metadata": {},
   "outputs": [
    {
     "data": {
      "text/plain": [
       "0"
      ]
     },
     "execution_count": 102,
     "metadata": {},
     "output_type": "execute_result"
    }
   ],
   "source": [
    "newsdf['Date'].duplicated().sum()"
   ]
  },
  {
   "cell_type": "code",
   "execution_count": 103,
   "id": "357636db",
   "metadata": {},
   "outputs": [
    {
     "data": {
      "text/plain": [
       "(1474, 9)"
      ]
     },
     "execution_count": 103,
     "metadata": {},
     "output_type": "execute_result"
    }
   ],
   "source": [
    "df2.shape"
   ]
  },
  {
   "cell_type": "code",
   "execution_count": 104,
   "id": "06073c66",
   "metadata": {},
   "outputs": [
    {
     "data": {
      "text/html": [
       "<div>\n",
       "<style scoped>\n",
       "    .dataframe tbody tr th:only-of-type {\n",
       "        vertical-align: middle;\n",
       "    }\n",
       "\n",
       "    .dataframe tbody tr th {\n",
       "        vertical-align: top;\n",
       "    }\n",
       "\n",
       "    .dataframe thead th {\n",
       "        text-align: right;\n",
       "    }\n",
       "</style>\n",
       "<table border=\"1\" class=\"dataframe\">\n",
       "  <thead>\n",
       "    <tr style=\"text-align: right;\">\n",
       "      <th></th>\n",
       "      <th>Date</th>\n",
       "      <th>polarity</th>\n",
       "      <th>subjectivity</th>\n",
       "    </tr>\n",
       "  </thead>\n",
       "  <tbody>\n",
       "    <tr>\n",
       "      <th>0</th>\n",
       "      <td>2001-01-02</td>\n",
       "      <td>0.193519</td>\n",
       "      <td>0.293056</td>\n",
       "    </tr>\n",
       "    <tr>\n",
       "      <th>1</th>\n",
       "      <td>2001-01-03</td>\n",
       "      <td>0.088462</td>\n",
       "      <td>0.407692</td>\n",
       "    </tr>\n",
       "    <tr>\n",
       "      <th>2</th>\n",
       "      <td>2001-01-04</td>\n",
       "      <td>0.091426</td>\n",
       "      <td>0.481895</td>\n",
       "    </tr>\n",
       "    <tr>\n",
       "      <th>3</th>\n",
       "      <td>2001-01-05</td>\n",
       "      <td>0.257415</td>\n",
       "      <td>0.465542</td>\n",
       "    </tr>\n",
       "    <tr>\n",
       "      <th>4</th>\n",
       "      <td>2001-01-06</td>\n",
       "      <td>0.219481</td>\n",
       "      <td>0.464935</td>\n",
       "    </tr>\n",
       "  </tbody>\n",
       "</table>\n",
       "</div>"
      ],
      "text/plain": [
       "        Date  polarity  subjectivity\n",
       "0 2001-01-02  0.193519      0.293056\n",
       "1 2001-01-03  0.088462      0.407692\n",
       "2 2001-01-04  0.091426      0.481895\n",
       "3 2001-01-05  0.257415      0.465542\n",
       "4 2001-01-06  0.219481      0.464935"
      ]
     },
     "execution_count": 104,
     "metadata": {},
     "output_type": "execute_result"
    }
   ],
   "source": [
    "newsdf.head()"
   ]
  },
  {
   "cell_type": "code",
   "execution_count": 105,
   "id": "0ca8d70a",
   "metadata": {},
   "outputs": [
    {
     "name": "stdout",
     "output_type": "stream",
     "text": [
      "<class 'pandas.core.frame.DataFrame'>\n",
      "RangeIndex: 7717 entries, 0 to 7716\n",
      "Data columns (total 3 columns):\n",
      " #   Column        Non-Null Count  Dtype         \n",
      "---  ------        --------------  -----         \n",
      " 0   Date          7717 non-null   datetime64[ns]\n",
      " 1   polarity      7717 non-null   float64       \n",
      " 2   subjectivity  7717 non-null   float64       \n",
      "dtypes: datetime64[ns](1), float64(2)\n",
      "memory usage: 181.0 KB\n"
     ]
    }
   ],
   "source": [
    "newsdf.info()"
   ]
  },
  {
   "cell_type": "code",
   "execution_count": null,
   "id": "83e26956",
   "metadata": {},
   "outputs": [],
   "source": []
  },
  {
   "cell_type": "markdown",
   "id": "85737137",
   "metadata": {},
   "source": [
    "## Preparing Data"
   ]
  },
  {
   "cell_type": "code",
   "execution_count": 106,
   "id": "e1454707",
   "metadata": {},
   "outputs": [],
   "source": [
    "df2.reset_index(inplace=True)"
   ]
  },
  {
   "cell_type": "code",
   "execution_count": 107,
   "id": "8fb50918",
   "metadata": {},
   "outputs": [],
   "source": [
    "df2['Date'] = pd.to_datetime(df2['Date'])"
   ]
  },
  {
   "cell_type": "code",
   "execution_count": 108,
   "id": "10324632",
   "metadata": {},
   "outputs": [],
   "source": [
    "df2 = pd.merge(df2, newsdf)"
   ]
  },
  {
   "cell_type": "code",
   "execution_count": 109,
   "id": "40a2a402",
   "metadata": {},
   "outputs": [
    {
     "data": {
      "text/plain": [
       "(1474, 12)"
      ]
     },
     "execution_count": 109,
     "metadata": {},
     "output_type": "execute_result"
    }
   ],
   "source": [
    "df2.shape"
   ]
  },
  {
   "cell_type": "code",
   "execution_count": 110,
   "id": "5081187e",
   "metadata": {},
   "outputs": [
    {
     "data": {
      "text/html": [
       "<div>\n",
       "<style scoped>\n",
       "    .dataframe tbody tr th:only-of-type {\n",
       "        vertical-align: middle;\n",
       "    }\n",
       "\n",
       "    .dataframe tbody tr th {\n",
       "        vertical-align: top;\n",
       "    }\n",
       "\n",
       "    .dataframe thead th {\n",
       "        text-align: right;\n",
       "    }\n",
       "</style>\n",
       "<table border=\"1\" class=\"dataframe\">\n",
       "  <thead>\n",
       "    <tr style=\"text-align: right;\">\n",
       "      <th></th>\n",
       "      <th>Date</th>\n",
       "      <th>High</th>\n",
       "      <th>Low</th>\n",
       "      <th>Open</th>\n",
       "      <th>Close</th>\n",
       "      <th>Volume</th>\n",
       "      <th>Adj Close</th>\n",
       "      <th>MA50</th>\n",
       "      <th>MA200</th>\n",
       "      <th>returns</th>\n",
       "      <th>polarity</th>\n",
       "      <th>subjectivity</th>\n",
       "    </tr>\n",
       "  </thead>\n",
       "  <tbody>\n",
       "    <tr>\n",
       "      <th>0</th>\n",
       "      <td>2015-01-02</td>\n",
       "      <td>27937.470703</td>\n",
       "      <td>27519.259766</td>\n",
       "      <td>27521.279297</td>\n",
       "      <td>27887.900391</td>\n",
       "      <td>7400.0</td>\n",
       "      <td>27887.900391</td>\n",
       "      <td>NaN</td>\n",
       "      <td>NaN</td>\n",
       "      <td>NaN</td>\n",
       "      <td>0.055586</td>\n",
       "      <td>0.455251</td>\n",
       "    </tr>\n",
       "    <tr>\n",
       "      <th>1</th>\n",
       "      <td>2015-01-05</td>\n",
       "      <td>28064.490234</td>\n",
       "      <td>27786.849609</td>\n",
       "      <td>27978.429688</td>\n",
       "      <td>27842.320312</td>\n",
       "      <td>9200.0</td>\n",
       "      <td>27842.320312</td>\n",
       "      <td>NaN</td>\n",
       "      <td>NaN</td>\n",
       "      <td>-0.001634</td>\n",
       "      <td>0.100081</td>\n",
       "      <td>0.433132</td>\n",
       "    </tr>\n",
       "    <tr>\n",
       "      <th>2</th>\n",
       "      <td>2015-01-06</td>\n",
       "      <td>27698.929688</td>\n",
       "      <td>26937.060547</td>\n",
       "      <td>27694.230469</td>\n",
       "      <td>26987.460938</td>\n",
       "      <td>14100.0</td>\n",
       "      <td>26987.460938</td>\n",
       "      <td>NaN</td>\n",
       "      <td>NaN</td>\n",
       "      <td>-0.030704</td>\n",
       "      <td>0.055802</td>\n",
       "      <td>0.386579</td>\n",
       "    </tr>\n",
       "    <tr>\n",
       "      <th>3</th>\n",
       "      <td>2015-01-07</td>\n",
       "      <td>27051.599609</td>\n",
       "      <td>26776.119141</td>\n",
       "      <td>26983.429688</td>\n",
       "      <td>26908.820312</td>\n",
       "      <td>12200.0</td>\n",
       "      <td>26908.820312</td>\n",
       "      <td>NaN</td>\n",
       "      <td>NaN</td>\n",
       "      <td>-0.002914</td>\n",
       "      <td>0.034707</td>\n",
       "      <td>0.386916</td>\n",
       "    </tr>\n",
       "    <tr>\n",
       "      <th>4</th>\n",
       "      <td>2015-01-08</td>\n",
       "      <td>27316.410156</td>\n",
       "      <td>27101.939453</td>\n",
       "      <td>27178.769531</td>\n",
       "      <td>27274.710938</td>\n",
       "      <td>8200.0</td>\n",
       "      <td>27274.710938</td>\n",
       "      <td>NaN</td>\n",
       "      <td>NaN</td>\n",
       "      <td>0.013597</td>\n",
       "      <td>0.060173</td>\n",
       "      <td>0.408416</td>\n",
       "    </tr>\n",
       "  </tbody>\n",
       "</table>\n",
       "</div>"
      ],
      "text/plain": [
       "        Date          High           Low          Open         Close   Volume  \\\n",
       "0 2015-01-02  27937.470703  27519.259766  27521.279297  27887.900391   7400.0   \n",
       "1 2015-01-05  28064.490234  27786.849609  27978.429688  27842.320312   9200.0   \n",
       "2 2015-01-06  27698.929688  26937.060547  27694.230469  26987.460938  14100.0   \n",
       "3 2015-01-07  27051.599609  26776.119141  26983.429688  26908.820312  12200.0   \n",
       "4 2015-01-08  27316.410156  27101.939453  27178.769531  27274.710938   8200.0   \n",
       "\n",
       "      Adj Close  MA50  MA200   returns  polarity  subjectivity  \n",
       "0  27887.900391   NaN    NaN       NaN  0.055586      0.455251  \n",
       "1  27842.320312   NaN    NaN -0.001634  0.100081      0.433132  \n",
       "2  26987.460938   NaN    NaN -0.030704  0.055802      0.386579  \n",
       "3  26908.820312   NaN    NaN -0.002914  0.034707      0.386916  \n",
       "4  27274.710938   NaN    NaN  0.013597  0.060173      0.408416  "
      ]
     },
     "execution_count": 110,
     "metadata": {},
     "output_type": "execute_result"
    }
   ],
   "source": [
    "df2.head()"
   ]
  },
  {
   "cell_type": "code",
   "execution_count": 111,
   "id": "404bfd37",
   "metadata": {},
   "outputs": [
    {
     "data": {
      "text/html": [
       "<div>\n",
       "<style scoped>\n",
       "    .dataframe tbody tr th:only-of-type {\n",
       "        vertical-align: middle;\n",
       "    }\n",
       "\n",
       "    .dataframe tbody tr th {\n",
       "        vertical-align: top;\n",
       "    }\n",
       "\n",
       "    .dataframe thead th {\n",
       "        text-align: right;\n",
       "    }\n",
       "</style>\n",
       "<table border=\"1\" class=\"dataframe\">\n",
       "  <thead>\n",
       "    <tr style=\"text-align: right;\">\n",
       "      <th></th>\n",
       "      <th>Date</th>\n",
       "      <th>High</th>\n",
       "      <th>Low</th>\n",
       "      <th>Open</th>\n",
       "      <th>Close</th>\n",
       "      <th>Volume</th>\n",
       "      <th>Adj Close</th>\n",
       "      <th>MA50</th>\n",
       "      <th>MA200</th>\n",
       "      <th>returns</th>\n",
       "      <th>polarity</th>\n",
       "      <th>subjectivity</th>\n",
       "    </tr>\n",
       "  </thead>\n",
       "  <tbody>\n",
       "    <tr>\n",
       "      <th>1469</th>\n",
       "      <td>2020-12-24</td>\n",
       "      <td>47053.398438</td>\n",
       "      <td>46539.019531</td>\n",
       "      <td>46743.488281</td>\n",
       "      <td>46973.539062</td>\n",
       "      <td>13700.0</td>\n",
       "      <td>46973.539062</td>\n",
       "      <td>43317.963359</td>\n",
       "      <td>37125.668574</td>\n",
       "      <td>0.011398</td>\n",
       "      <td>0.047936</td>\n",
       "      <td>0.390942</td>\n",
       "    </tr>\n",
       "    <tr>\n",
       "      <th>1470</th>\n",
       "      <td>2020-12-28</td>\n",
       "      <td>47406.718750</td>\n",
       "      <td>47148.238281</td>\n",
       "      <td>47153.589844</td>\n",
       "      <td>47353.750000</td>\n",
       "      <td>9600.0</td>\n",
       "      <td>47353.750000</td>\n",
       "      <td>43448.571328</td>\n",
       "      <td>37173.366719</td>\n",
       "      <td>0.008094</td>\n",
       "      <td>0.070784</td>\n",
       "      <td>0.414510</td>\n",
       "    </tr>\n",
       "    <tr>\n",
       "      <th>1471</th>\n",
       "      <td>2020-12-29</td>\n",
       "      <td>47714.550781</td>\n",
       "      <td>47361.898438</td>\n",
       "      <td>47466.621094</td>\n",
       "      <td>47613.078125</td>\n",
       "      <td>12800.0</td>\n",
       "      <td>47613.078125</td>\n",
       "      <td>43576.942734</td>\n",
       "      <td>37225.948828</td>\n",
       "      <td>0.005476</td>\n",
       "      <td>0.061175</td>\n",
       "      <td>0.424021</td>\n",
       "    </tr>\n",
       "    <tr>\n",
       "      <th>1472</th>\n",
       "      <td>2020-12-30</td>\n",
       "      <td>47807.851562</td>\n",
       "      <td>47358.359375</td>\n",
       "      <td>47789.031250</td>\n",
       "      <td>47746.218750</td>\n",
       "      <td>15600.0</td>\n",
       "      <td>47746.218750</td>\n",
       "      <td>43733.991172</td>\n",
       "      <td>37287.549492</td>\n",
       "      <td>0.002796</td>\n",
       "      <td>0.043919</td>\n",
       "      <td>0.441660</td>\n",
       "    </tr>\n",
       "    <tr>\n",
       "      <th>1473</th>\n",
       "      <td>2020-12-31</td>\n",
       "      <td>47896.968750</td>\n",
       "      <td>47602.121094</td>\n",
       "      <td>47753.109375</td>\n",
       "      <td>47751.328125</td>\n",
       "      <td>13900.0</td>\n",
       "      <td>47751.328125</td>\n",
       "      <td>43882.681953</td>\n",
       "      <td>37353.952539</td>\n",
       "      <td>0.000107</td>\n",
       "      <td>0.092529</td>\n",
       "      <td>0.406220</td>\n",
       "    </tr>\n",
       "  </tbody>\n",
       "</table>\n",
       "</div>"
      ],
      "text/plain": [
       "           Date          High           Low          Open         Close  \\\n",
       "1469 2020-12-24  47053.398438  46539.019531  46743.488281  46973.539062   \n",
       "1470 2020-12-28  47406.718750  47148.238281  47153.589844  47353.750000   \n",
       "1471 2020-12-29  47714.550781  47361.898438  47466.621094  47613.078125   \n",
       "1472 2020-12-30  47807.851562  47358.359375  47789.031250  47746.218750   \n",
       "1473 2020-12-31  47896.968750  47602.121094  47753.109375  47751.328125   \n",
       "\n",
       "       Volume     Adj Close          MA50         MA200   returns  polarity  \\\n",
       "1469  13700.0  46973.539062  43317.963359  37125.668574  0.011398  0.047936   \n",
       "1470   9600.0  47353.750000  43448.571328  37173.366719  0.008094  0.070784   \n",
       "1471  12800.0  47613.078125  43576.942734  37225.948828  0.005476  0.061175   \n",
       "1472  15600.0  47746.218750  43733.991172  37287.549492  0.002796  0.043919   \n",
       "1473  13900.0  47751.328125  43882.681953  37353.952539  0.000107  0.092529   \n",
       "\n",
       "      subjectivity  \n",
       "1469      0.390942  \n",
       "1470      0.414510  \n",
       "1471      0.424021  \n",
       "1472      0.441660  \n",
       "1473      0.406220  "
      ]
     },
     "execution_count": 111,
     "metadata": {},
     "output_type": "execute_result"
    }
   ],
   "source": [
    "df2.tail()"
   ]
  },
  {
   "cell_type": "code",
   "execution_count": null,
   "id": "f33e8f1e",
   "metadata": {},
   "outputs": [],
   "source": []
  },
  {
   "cell_type": "code",
   "execution_count": 112,
   "id": "5c71d605",
   "metadata": {},
   "outputs": [],
   "source": [
    "df2['MA50']=df2['MA50'].fillna(df2['MA50'].mean())"
   ]
  },
  {
   "cell_type": "code",
   "execution_count": 113,
   "id": "275aaea8",
   "metadata": {},
   "outputs": [],
   "source": [
    "df2['MA200']=df2['MA200'].fillna(df2['MA200'].mean())"
   ]
  },
  {
   "cell_type": "code",
   "execution_count": 114,
   "id": "ee02577f",
   "metadata": {},
   "outputs": [],
   "source": [
    "df2['returns']=df2['returns'].fillna(df2['returns'].mean())"
   ]
  },
  {
   "cell_type": "code",
   "execution_count": 116,
   "id": "5c85e235",
   "metadata": {},
   "outputs": [
    {
     "data": {
      "text/html": [
       "<div>\n",
       "<style scoped>\n",
       "    .dataframe tbody tr th:only-of-type {\n",
       "        vertical-align: middle;\n",
       "    }\n",
       "\n",
       "    .dataframe tbody tr th {\n",
       "        vertical-align: top;\n",
       "    }\n",
       "\n",
       "    .dataframe thead th {\n",
       "        text-align: right;\n",
       "    }\n",
       "</style>\n",
       "<table border=\"1\" class=\"dataframe\">\n",
       "  <thead>\n",
       "    <tr style=\"text-align: right;\">\n",
       "      <th></th>\n",
       "      <th>Date</th>\n",
       "      <th>High</th>\n",
       "      <th>Low</th>\n",
       "      <th>Open</th>\n",
       "      <th>Close</th>\n",
       "      <th>Volume</th>\n",
       "      <th>Adj Close</th>\n",
       "      <th>MA50</th>\n",
       "      <th>MA200</th>\n",
       "      <th>returns</th>\n",
       "      <th>polarity</th>\n",
       "      <th>subjectivity</th>\n",
       "    </tr>\n",
       "  </thead>\n",
       "  <tbody>\n",
       "    <tr>\n",
       "      <th>0</th>\n",
       "      <td>2015-01-02</td>\n",
       "      <td>27937.470703</td>\n",
       "      <td>27519.259766</td>\n",
       "      <td>27521.279297</td>\n",
       "      <td>27887.900391</td>\n",
       "      <td>7400.0</td>\n",
       "      <td>27887.900391</td>\n",
       "      <td>32625.380641</td>\n",
       "      <td>32549.164463</td>\n",
       "      <td>0.000430</td>\n",
       "      <td>0.055586</td>\n",
       "      <td>0.455251</td>\n",
       "    </tr>\n",
       "    <tr>\n",
       "      <th>1</th>\n",
       "      <td>2015-01-05</td>\n",
       "      <td>28064.490234</td>\n",
       "      <td>27786.849609</td>\n",
       "      <td>27978.429688</td>\n",
       "      <td>27842.320312</td>\n",
       "      <td>9200.0</td>\n",
       "      <td>27842.320312</td>\n",
       "      <td>32625.380641</td>\n",
       "      <td>32549.164463</td>\n",
       "      <td>-0.001634</td>\n",
       "      <td>0.100081</td>\n",
       "      <td>0.433132</td>\n",
       "    </tr>\n",
       "    <tr>\n",
       "      <th>2</th>\n",
       "      <td>2015-01-06</td>\n",
       "      <td>27698.929688</td>\n",
       "      <td>26937.060547</td>\n",
       "      <td>27694.230469</td>\n",
       "      <td>26987.460938</td>\n",
       "      <td>14100.0</td>\n",
       "      <td>26987.460938</td>\n",
       "      <td>32625.380641</td>\n",
       "      <td>32549.164463</td>\n",
       "      <td>-0.030704</td>\n",
       "      <td>0.055802</td>\n",
       "      <td>0.386579</td>\n",
       "    </tr>\n",
       "    <tr>\n",
       "      <th>3</th>\n",
       "      <td>2015-01-07</td>\n",
       "      <td>27051.599609</td>\n",
       "      <td>26776.119141</td>\n",
       "      <td>26983.429688</td>\n",
       "      <td>26908.820312</td>\n",
       "      <td>12200.0</td>\n",
       "      <td>26908.820312</td>\n",
       "      <td>32625.380641</td>\n",
       "      <td>32549.164463</td>\n",
       "      <td>-0.002914</td>\n",
       "      <td>0.034707</td>\n",
       "      <td>0.386916</td>\n",
       "    </tr>\n",
       "    <tr>\n",
       "      <th>4</th>\n",
       "      <td>2015-01-08</td>\n",
       "      <td>27316.410156</td>\n",
       "      <td>27101.939453</td>\n",
       "      <td>27178.769531</td>\n",
       "      <td>27274.710938</td>\n",
       "      <td>8200.0</td>\n",
       "      <td>27274.710938</td>\n",
       "      <td>32625.380641</td>\n",
       "      <td>32549.164463</td>\n",
       "      <td>0.013597</td>\n",
       "      <td>0.060173</td>\n",
       "      <td>0.408416</td>\n",
       "    </tr>\n",
       "  </tbody>\n",
       "</table>\n",
       "</div>"
      ],
      "text/plain": [
       "        Date          High           Low          Open         Close   Volume  \\\n",
       "0 2015-01-02  27937.470703  27519.259766  27521.279297  27887.900391   7400.0   \n",
       "1 2015-01-05  28064.490234  27786.849609  27978.429688  27842.320312   9200.0   \n",
       "2 2015-01-06  27698.929688  26937.060547  27694.230469  26987.460938  14100.0   \n",
       "3 2015-01-07  27051.599609  26776.119141  26983.429688  26908.820312  12200.0   \n",
       "4 2015-01-08  27316.410156  27101.939453  27178.769531  27274.710938   8200.0   \n",
       "\n",
       "      Adj Close          MA50         MA200   returns  polarity  subjectivity  \n",
       "0  27887.900391  32625.380641  32549.164463  0.000430  0.055586      0.455251  \n",
       "1  27842.320312  32625.380641  32549.164463 -0.001634  0.100081      0.433132  \n",
       "2  26987.460938  32625.380641  32549.164463 -0.030704  0.055802      0.386579  \n",
       "3  26908.820312  32625.380641  32549.164463 -0.002914  0.034707      0.386916  \n",
       "4  27274.710938  32625.380641  32549.164463  0.013597  0.060173      0.408416  "
      ]
     },
     "execution_count": 116,
     "metadata": {},
     "output_type": "execute_result"
    }
   ],
   "source": [
    "df2.head()"
   ]
  },
  {
   "cell_type": "code",
   "execution_count": null,
   "id": "a16e36e6",
   "metadata": {},
   "outputs": [],
   "source": []
  },
  {
   "cell_type": "code",
   "execution_count": 117,
   "id": "d0f3c8d4",
   "metadata": {},
   "outputs": [
    {
     "name": "stderr",
     "output_type": "stream",
     "text": [
      "C:\\Users\\Omar EL-Saied\\AppData\\Local\\Temp\\ipykernel_13612\\1429395366.py:4: FutureWarning: Series.dt.weekofyear and Series.dt.week have been deprecated. Please use Series.dt.isocalendar().week instead.\n",
      "  df2['week'] = df2['Date'].dt.week\n"
     ]
    }
   ],
   "source": [
    "df2['month'] = df2['Date'].dt.month\n",
    "df2['day'] = df2['Date'].dt.day\n",
    "df2['dayofweek'] = df2['Date'].dt.dayofweek\n",
    "df2['week'] = df2['Date'].dt.week"
   ]
  },
  {
   "cell_type": "code",
   "execution_count": 118,
   "id": "ec6317d0",
   "metadata": {},
   "outputs": [
    {
     "data": {
      "text/html": [
       "<div>\n",
       "<style scoped>\n",
       "    .dataframe tbody tr th:only-of-type {\n",
       "        vertical-align: middle;\n",
       "    }\n",
       "\n",
       "    .dataframe tbody tr th {\n",
       "        vertical-align: top;\n",
       "    }\n",
       "\n",
       "    .dataframe thead th {\n",
       "        text-align: right;\n",
       "    }\n",
       "</style>\n",
       "<table border=\"1\" class=\"dataframe\">\n",
       "  <thead>\n",
       "    <tr style=\"text-align: right;\">\n",
       "      <th></th>\n",
       "      <th>Date</th>\n",
       "      <th>High</th>\n",
       "      <th>Low</th>\n",
       "      <th>Open</th>\n",
       "      <th>Close</th>\n",
       "      <th>Volume</th>\n",
       "      <th>Adj Close</th>\n",
       "      <th>MA50</th>\n",
       "      <th>MA200</th>\n",
       "      <th>returns</th>\n",
       "      <th>polarity</th>\n",
       "      <th>subjectivity</th>\n",
       "      <th>month</th>\n",
       "      <th>day</th>\n",
       "      <th>dayofweek</th>\n",
       "      <th>week</th>\n",
       "    </tr>\n",
       "  </thead>\n",
       "  <tbody>\n",
       "    <tr>\n",
       "      <th>0</th>\n",
       "      <td>2015-01-02</td>\n",
       "      <td>27937.470703</td>\n",
       "      <td>27519.259766</td>\n",
       "      <td>27521.279297</td>\n",
       "      <td>27887.900391</td>\n",
       "      <td>7400.0</td>\n",
       "      <td>27887.900391</td>\n",
       "      <td>32625.380641</td>\n",
       "      <td>32549.164463</td>\n",
       "      <td>0.000430</td>\n",
       "      <td>0.055586</td>\n",
       "      <td>0.455251</td>\n",
       "      <td>1</td>\n",
       "      <td>2</td>\n",
       "      <td>4</td>\n",
       "      <td>1</td>\n",
       "    </tr>\n",
       "    <tr>\n",
       "      <th>1</th>\n",
       "      <td>2015-01-05</td>\n",
       "      <td>28064.490234</td>\n",
       "      <td>27786.849609</td>\n",
       "      <td>27978.429688</td>\n",
       "      <td>27842.320312</td>\n",
       "      <td>9200.0</td>\n",
       "      <td>27842.320312</td>\n",
       "      <td>32625.380641</td>\n",
       "      <td>32549.164463</td>\n",
       "      <td>-0.001634</td>\n",
       "      <td>0.100081</td>\n",
       "      <td>0.433132</td>\n",
       "      <td>1</td>\n",
       "      <td>5</td>\n",
       "      <td>0</td>\n",
       "      <td>2</td>\n",
       "    </tr>\n",
       "    <tr>\n",
       "      <th>2</th>\n",
       "      <td>2015-01-06</td>\n",
       "      <td>27698.929688</td>\n",
       "      <td>26937.060547</td>\n",
       "      <td>27694.230469</td>\n",
       "      <td>26987.460938</td>\n",
       "      <td>14100.0</td>\n",
       "      <td>26987.460938</td>\n",
       "      <td>32625.380641</td>\n",
       "      <td>32549.164463</td>\n",
       "      <td>-0.030704</td>\n",
       "      <td>0.055802</td>\n",
       "      <td>0.386579</td>\n",
       "      <td>1</td>\n",
       "      <td>6</td>\n",
       "      <td>1</td>\n",
       "      <td>2</td>\n",
       "    </tr>\n",
       "    <tr>\n",
       "      <th>3</th>\n",
       "      <td>2015-01-07</td>\n",
       "      <td>27051.599609</td>\n",
       "      <td>26776.119141</td>\n",
       "      <td>26983.429688</td>\n",
       "      <td>26908.820312</td>\n",
       "      <td>12200.0</td>\n",
       "      <td>26908.820312</td>\n",
       "      <td>32625.380641</td>\n",
       "      <td>32549.164463</td>\n",
       "      <td>-0.002914</td>\n",
       "      <td>0.034707</td>\n",
       "      <td>0.386916</td>\n",
       "      <td>1</td>\n",
       "      <td>7</td>\n",
       "      <td>2</td>\n",
       "      <td>2</td>\n",
       "    </tr>\n",
       "    <tr>\n",
       "      <th>4</th>\n",
       "      <td>2015-01-08</td>\n",
       "      <td>27316.410156</td>\n",
       "      <td>27101.939453</td>\n",
       "      <td>27178.769531</td>\n",
       "      <td>27274.710938</td>\n",
       "      <td>8200.0</td>\n",
       "      <td>27274.710938</td>\n",
       "      <td>32625.380641</td>\n",
       "      <td>32549.164463</td>\n",
       "      <td>0.013597</td>\n",
       "      <td>0.060173</td>\n",
       "      <td>0.408416</td>\n",
       "      <td>1</td>\n",
       "      <td>8</td>\n",
       "      <td>3</td>\n",
       "      <td>2</td>\n",
       "    </tr>\n",
       "  </tbody>\n",
       "</table>\n",
       "</div>"
      ],
      "text/plain": [
       "        Date          High           Low          Open         Close   Volume  \\\n",
       "0 2015-01-02  27937.470703  27519.259766  27521.279297  27887.900391   7400.0   \n",
       "1 2015-01-05  28064.490234  27786.849609  27978.429688  27842.320312   9200.0   \n",
       "2 2015-01-06  27698.929688  26937.060547  27694.230469  26987.460938  14100.0   \n",
       "3 2015-01-07  27051.599609  26776.119141  26983.429688  26908.820312  12200.0   \n",
       "4 2015-01-08  27316.410156  27101.939453  27178.769531  27274.710938   8200.0   \n",
       "\n",
       "      Adj Close          MA50         MA200   returns  polarity  subjectivity  \\\n",
       "0  27887.900391  32625.380641  32549.164463  0.000430  0.055586      0.455251   \n",
       "1  27842.320312  32625.380641  32549.164463 -0.001634  0.100081      0.433132   \n",
       "2  26987.460938  32625.380641  32549.164463 -0.030704  0.055802      0.386579   \n",
       "3  26908.820312  32625.380641  32549.164463 -0.002914  0.034707      0.386916   \n",
       "4  27274.710938  32625.380641  32549.164463  0.013597  0.060173      0.408416   \n",
       "\n",
       "   month  day  dayofweek  week  \n",
       "0      1    2          4     1  \n",
       "1      1    5          0     2  \n",
       "2      1    6          1     2  \n",
       "3      1    7          2     2  \n",
       "4      1    8          3     2  "
      ]
     },
     "execution_count": 118,
     "metadata": {},
     "output_type": "execute_result"
    }
   ],
   "source": [
    "df2.head()"
   ]
  },
  {
   "cell_type": "code",
   "execution_count": 119,
   "id": "cb30a096",
   "metadata": {},
   "outputs": [],
   "source": [
    "df3=df2.drop(['Date'], axis=1)"
   ]
  },
  {
   "cell_type": "code",
   "execution_count": 120,
   "id": "1c65bdba",
   "metadata": {},
   "outputs": [],
   "source": [
    "x = df3.drop('Close', axis=1)\n",
    "y =df3['Close']"
   ]
  },
  {
   "cell_type": "markdown",
   "id": "776e08f8",
   "metadata": {},
   "source": [
    "## Spliting Data"
   ]
  },
  {
   "cell_type": "code",
   "execution_count": 121,
   "id": "65957277",
   "metadata": {},
   "outputs": [
    {
     "data": {
      "text/plain": [
       "(1179, 14)"
      ]
     },
     "execution_count": 121,
     "metadata": {},
     "output_type": "execute_result"
    }
   ],
   "source": [
    "from sklearn.model_selection import train_test_split\n",
    "x_train, x_test, y_train, y_test = train_test_split(x, y, test_size=0.2, random_state = 0)\n",
    "x_train.shape"
   ]
  },
  {
   "cell_type": "markdown",
   "id": "89b197b1",
   "metadata": {},
   "source": [
    "## Training Data"
   ]
  },
  {
   "cell_type": "code",
   "execution_count": 122,
   "id": "f43ff225",
   "metadata": {},
   "outputs": [],
   "source": [
    "from sklearn.ensemble import RandomForestRegressor"
   ]
  },
  {
   "cell_type": "code",
   "execution_count": 130,
   "id": "8792b90f",
   "metadata": {},
   "outputs": [],
   "source": [
    "rfg = RandomForestRegressor(random_state = 42, n_estimators = 500, criterion='mse', max_depth = 30, min_samples_leaf = 10)"
   ]
  },
  {
   "cell_type": "code",
   "execution_count": 131,
   "id": "02d08665",
   "metadata": {},
   "outputs": [
    {
     "name": "stderr",
     "output_type": "stream",
     "text": [
      "D:\\anaconda\\lib\\site-packages\\sklearn\\ensemble\\_forest.py:396: FutureWarning: Criterion 'mse' was deprecated in v1.0 and will be removed in version 1.2. Use `criterion='squared_error'` which is equivalent.\n",
      "  warn(\n"
     ]
    }
   ],
   "source": [
    "rfg.fit(x_train, y_train)\n",
    "predictions = rfg.predict(x_test)"
   ]
  },
  {
   "cell_type": "markdown",
   "id": "97f60b2a",
   "metadata": {},
   "source": [
    "## Evaluating Model"
   ]
  },
  {
   "cell_type": "code",
   "execution_count": 132,
   "id": "e2916f8f",
   "metadata": {},
   "outputs": [
    {
     "name": "stdout",
     "output_type": "stream",
     "text": [
      "16544.611606123366\n"
     ]
    }
   ],
   "source": [
    "from sklearn.metrics import mean_squared_error\n",
    "from sklearn.metrics import r2_score\n",
    "print(mean_squared_error(predictions,y_test))"
   ]
  },
  {
   "cell_type": "code",
   "execution_count": 133,
   "id": "32eebe98",
   "metadata": {},
   "outputs": [
    {
     "name": "stdout",
     "output_type": "stream",
     "text": [
      "0.9994268448342511\n"
     ]
    }
   ],
   "source": [
    "print(r2_score(predictions,y_test))"
   ]
  },
  {
   "cell_type": "code",
   "execution_count": 134,
   "id": "05d2f36d",
   "metadata": {},
   "outputs": [
    {
     "data": {
      "image/png": "[encoded data removed]",
      "text/plain": [
       "<Figure size 432x288 with 1 Axes>"
      ]
     },
     "metadata": {
      "needs_background": "light"
     },
     "output_type": "display_data"
    }
   ],
   "source": [
    "plt.scatter(predictions, y_test)\n",
    "plt.show()"
   ]
  },
  {
   "cell_type": "code",
   "execution_count": null,
   "id": "d0766f42",
   "metadata": {},
   "outputs": [],
   "source": []
  },
  {
   "cell_type": "code",
   "execution_count": null,
   "id": "64a85731",
   "metadata": {},
   "outputs": [],
   "source": []
  },
  {
   "cell_type": "code",
   "execution_count": null,
   "id": "5671979f",
   "metadata": {},
   "outputs": [],
   "source": []
  },
  {
   "cell_type": "markdown",
   "id": "8be5c0be",
   "metadata": {},
   "source": [
    "# Thanks A lot"
   ]
  }
 ],
 "metadata": {
  "kernelspec": {
   "display_name": "Python 3 (ipykernel)",
   "language": "python",
   "name": "python3"
  },
  "language_info": {
   "codemirror_mode": {
    "name": "ipython",
    "version": 3
   },
   "file_extension": ".py",
   "mimetype": "text/x-python",
   "name": "python",
   "nbconvert_exporter": "python",
   "pygments_lexer": "ipython3",
   "version": "3.9.12"
  }
 },
 "nbformat": 4,
 "nbformat_minor": 5
}
